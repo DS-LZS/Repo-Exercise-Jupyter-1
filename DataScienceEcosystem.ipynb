{
 "cells": [
  {
   "cell_type": "markdown",
   "id": "20b08199-978f-4fdd-a283-c02b48d47b62",
   "metadata": {},
   "source": [
    "# Data Science Tools and Ecosystem"
   ]
  },
  {
   "cell_type": "markdown",
   "id": "1f43ba1f-4ee6-46c6-adf6-2bfa01eaed89",
   "metadata": {},
   "source": [
    "In this notebook, Data Science Tools and Ecosystem are summarized."
   ]
  },
  {
   "cell_type": "markdown",
   "id": "e95ee1c8-8a17-4f35-a3b4-4325d94f238c",
   "metadata": {},
   "source": [
    "**Objectives:**\n",
    "\n",
    "- Text format in python\n",
    "- Creating lists and tables\n",
    "- Plotting in R"
   ]
  },
  {
   "cell_type": "markdown",
   "id": "ed6056ee-34c8-4160-a00b-9fb03cd31651",
   "metadata": {},
   "source": [
    "Some of the popular languages that Data Scientists use are:\n",
    "\n",
    "1. Python\n",
    "2. R\n",
    "3. SQL"
   ]
  },
  {
   "cell_type": "markdown",
   "id": "5a422d28-1478-4889-b00b-910a65e7247d",
   "metadata": {},
   "source": [
    "Some of the commonly used libraries used by Data Scientists include:\n",
    "\n",
    "1. Ggplot\n",
    "2. Plotly\n",
    "3. Leafert"
   ]
  },
  {
   "cell_type": "markdown",
   "id": "c356b2f6-2311-4586-af74-7d26e43abee8",
   "metadata": {},
   "source": [
    "|Data Science Tools|\n",
    "|----|\n",
    "|MySQL|\n",
    "|Apache Cassandra|\n",
    "|HDFS|"
   ]
  },
  {
   "cell_type": "markdown",
   "id": "689b27ec-2142-43eb-86ec-5730095ad3dc",
   "metadata": {},
   "source": [
    "### Below are a few examples of evaluating arithmetic expressions in Python"
   ]
  },
  {
   "cell_type": "code",
   "execution_count": 1,
   "id": "f4c395ff-c611-4707-9ce7-19c83cce4284",
   "metadata": {},
   "outputs": [
    {
     "data": {
      "text/plain": [
       "17"
      ]
     },
     "execution_count": 1,
     "metadata": {},
     "output_type": "execute_result"
    }
   ],
   "source": [
    "#This a simple arithmetic expression to multiply then add integers\n",
    "\n",
    "(3*4)+5"
   ]
  },
  {
   "cell_type": "code",
   "execution_count": 2,
   "id": "cb91e186-c3e4-4105-bc52-13bdaa8dc539",
   "metadata": {},
   "outputs": [
    {
     "data": {
      "text/plain": [
       "3.3333333333333335"
      ]
     },
     "execution_count": 2,
     "metadata": {},
     "output_type": "execute_result"
    }
   ],
   "source": [
    "#This will convert 200 minutes to hours by diving by 60\n",
    "\n",
    "200/60"
   ]
  },
  {
   "cell_type": "markdown",
   "id": "32922483-6242-468e-826b-3b1111d703e4",
   "metadata": {},
   "source": [
    "## Author\n",
    "Luis Zapatero Santos"
   ]
  },
  {
   "cell_type": "code",
   "execution_count": null,
   "id": "6cb4a3ca-1c50-4feb-903b-02b292e85994",
   "metadata": {},
   "outputs": [],
   "source": []
  }
 ],
 "metadata": {
  "kernelspec": {
   "display_name": "Python 3 (ipykernel)",
   "language": "python",
   "name": "python3"
  },
  "language_info": {
   "codemirror_mode": {
    "name": "ipython",
    "version": 3
   },
   "file_extension": ".py",
   "mimetype": "text/x-python",
   "name": "python",
   "nbconvert_exporter": "python",
   "pygments_lexer": "ipython3",
   "version": "3.12.8"
  }
 },
 "nbformat": 4,
 "nbformat_minor": 5
}
